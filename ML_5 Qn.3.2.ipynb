{
 "cells": [
  {
   "cell_type": "code",
   "execution_count": 68,
   "metadata": {},
   "outputs": [],
   "source": [
    "import matplotlib.pyplot as plt\n",
    "import numpy as np\n",
    "import os\n",
    "import pandas\n",
    "from numpy.linalg import inv\n",
    "import seaborn as sns\n",
    "from pylab import rcParams\n",
    "rcParams['figure.figsize'] = 15, 10"
   ]
  },
  {
   "cell_type": "code",
   "execution_count": 69,
   "metadata": {},
   "outputs": [],
   "source": [
    "os.chdir('/Users/sreelakshmirajendrakumar/Downloads')\n",
    "\n",
    "dataset_pendigits_test = pandas.read_csv('pendigits_test.csv')\n",
    "dataset_pendigits_train = pandas.read_csv('pendigits_train.csv')\n",
    "dataset_class_2D = pandas.read_csv('class_2D.csv')"
   ]
  },
  {
   "cell_type": "code",
   "execution_count": 70,
   "metadata": {},
   "outputs": [],
   "source": [
    "'defining X and y'\n",
    "X=dataset_class_2D.iloc[:,1:3]\n",
    "X=X.to_numpy()\n",
    "y=dataset_class_2D.iloc[:,3]\n",
    "y=y.to_numpy()\n",
    "N,d=np.shape(X)\n",
    "\n",
    "gamma_1=np.zeros(N,)+0.1\n",
    "gamma_2=np.zeros(N,)+0.5\n",
    "gamma_3=np.zeros(N,)+1\n",
    "\n",
    "tolerance=10**(-5)\n",
    "rho_1=0.002\n",
    "rho_2=0.0004\n",
    "rho_3=0.0002"
   ]
  },
  {
   "cell_type": "code",
   "execution_count": 71,
   "metadata": {},
   "outputs": [],
   "source": [
    "def getK(y=y,X=X,N=N,d=d):\n",
    "    K=np.zeros((N,N))\n",
    "    for i in range(0,N):\n",
    "        for j in range(0,N):\n",
    "            temp1=y[i]*y[j]\n",
    "            temp2=np.matmul(X[i].T,X[j])\n",
    "            K[i][j]=temp1*temp2\n",
    "    return K\n",
    "\n",
    "K=getK()"
   ]
  },
  {
   "cell_type": "code",
   "execution_count": 72,
   "metadata": {},
   "outputs": [],
   "source": [
    "def getZ(u,gamma,alpha):\n",
    "    w=alpha+u\n",
    "    z=np.zeros(len(gamma),)\n",
    "    for i in range(0,len(gamma)):        \n",
    "        if w[i]>0:\n",
    "            if w[i]>=gamma[i]:\n",
    "                z[i]=gamma[i]\n",
    "            elif w[i]<=gamma[i]:\n",
    "                z[i]=w[i]\n",
    "        elif w[i]<=0:\n",
    "            if w[i]<=gamma[i]:\n",
    "                z[i]=0\n",
    "    return z\n"
   ]
  },
  {
   "cell_type": "code",
   "execution_count": 86,
   "metadata": {},
   "outputs": [],
   "source": [
    "initial_alpha=np.random.rand(N,)\n",
    "lambda_1=0\n",
    "initial_z=np.random.rand(N,)\n",
    "initial_u=np.random.rand(N,)\n",
    "\n",
    "temp_alpha=np.zeros(N,)\n",
    "temp_z=np.zeros(N,)\n",
    "temp_u=np.zeros(N,)\n",
    "\n",
    "current_alpha_1=initial_alpha\n",
    "current_z_1=initial_z\n",
    "current_u_1=initial_u\n",
    "the_one=np.zeros(N,)+1\n",
    "\n",
    "'iterating when gamma=0.1'\n",
    "while True:\n",
    "    temp_alpha=current_alpha_1\n",
    "    #getting the value of lambda_1\n",
    "    temp1=current_z_1-current_u_1+rho_1*the_one # (50,)\n",
    "    temp2=np.identity(N)+rho_1*K #(50,50)\n",
    "    temp3=np.linalg.inv(temp2) #(50,50)\n",
    "    temp4=np.matmul(rho_1*y.T,temp3) #(50,)\n",
    "    temp5=np.matmul(temp4,y) # a scalar\n",
    "    temp6=np.matmul(y.T,temp3) \n",
    "    lambda_1=(np.matmul(temp6,temp1)/temp5)\n",
    "    'getting the value of alpha'\n",
    "    temp7=current_z_1-current_u_1+rho_1*the_one-lambda_1*rho_1*y\n",
    "    current_alpha_1=np.matmul(temp3,temp7)\n",
    "    \n",
    "    'finding the value of z'\n",
    "    temp_z=current_z_1\n",
    "    current_z_1=getZ(current_u_1,gamma_1,current_alpha_1)\n",
    "    \n",
    "    'getting the value of u'\n",
    "    temp_u=current_u_1\n",
    "    current_u_1=temp_u+current_alpha_1-current_z_1\n",
    "    \n",
    "    if np.all(abs(temp_alpha-current_alpha_1)<tolerance):\n",
    "        break"
   ]
  },
  {
   "cell_type": "code",
   "execution_count": 87,
   "metadata": {},
   "outputs": [
    {
     "data": {
      "text/plain": [
       "array([ 7.67880918e-06,  7.67551315e-06,  7.68432245e-06,  1.00007689e-01,\n",
       "        7.68215987e-06,  7.66501795e-06,  9.99922871e-02,  9.99922915e-02,\n",
       "        1.00007690e-01,  7.66853066e-06,  7.66159400e-06, -7.71858119e-06,\n",
       "        7.68265115e-06, -7.73942575e-06,  1.00007687e-01,  7.67106674e-06,\n",
       "        7.67706717e-06, -7.71853012e-06,  9.99922875e-02,  9.99922894e-02,\n",
       "        7.66777103e-06, -7.71640975e-06, -7.72331783e-06, -7.72150214e-06,\n",
       "       -7.71617665e-06,  7.67677890e-06,  7.67818067e-06,  1.49632800e-02,\n",
       "        1.45939426e-02, -7.72634444e-06, -7.71874318e-06,  7.66630601e-06,\n",
       "        7.67341589e-06,  1.00007687e-01,  1.00007687e-01,  1.00007689e-01,\n",
       "       -7.73969306e-06,  9.99922868e-02,  7.66015650e-06,  1.00007691e-01,\n",
       "        1.00007689e-01,  9.99922862e-02,  9.99922868e-02,  7.68146755e-06,\n",
       "        7.67490762e-06,  7.67255147e-06,  7.64462696e-06, -7.72957141e-06,\n",
       "        9.99922881e-02, -7.71955964e-06])"
      ]
     },
     "execution_count": 87,
     "metadata": {},
     "output_type": "execute_result"
    }
   ],
   "source": [
    "current_alpha_1"
   ]
  },
  {
   "cell_type": "code",
   "execution_count": 88,
   "metadata": {},
   "outputs": [],
   "source": [
    "initial_alpha=np.random.rand(N,)\n",
    "lambda_2=0\n",
    "initial_z=np.random.rand(N,)\n",
    "initial_u=np.random.rand(N,)\n",
    "\n",
    "temp_alpha=np.zeros(N,)\n",
    "temp_z=np.zeros(N,)\n",
    "temp_u=np.zeros(N,)\n",
    "\n",
    "current_alpha_2=initial_alpha\n",
    "current_z_2=initial_z\n",
    "current_u_2=initial_u\n",
    "the_one=np.zeros(N,)+1\n",
    "\n",
    "'iterating when gamma=0.5'\n",
    "while True:\n",
    "    temp_alpha=current_alpha_2\n",
    "    #getting the value of lambda_1\n",
    "    temp1=current_z_2-current_u_2+rho_2*the_one # (50,)\n",
    "    temp2=np.identity(N)+rho_2*K #(50,50)\n",
    "    temp3=np.linalg.inv(temp2) #(50,50)\n",
    "    temp4=np.matmul(rho_2*y.T,temp3) #(50,)\n",
    "    temp5=np.matmul(temp4,y) # a scalar\n",
    "    temp6=np.matmul(y.T,temp3) \n",
    "    lambda_2=(np.matmul(temp6,temp1)/temp5)\n",
    "    'getting the value of alpha'\n",
    "    temp7=current_z_2-current_u_2+rho_2*the_one-lambda_2*rho_2*y\n",
    "    current_alpha_2=np.matmul(temp3,temp7)\n",
    "    \n",
    "    'finding the value of z'\n",
    "    temp_z=current_z_2\n",
    "    current_z_2=getZ(current_u_2,gamma_2,current_alpha_2)\n",
    "    \n",
    "    'getting the value of u'\n",
    "    temp_u=current_u_2\n",
    "    current_u_2=temp_u+current_alpha_2-current_z_2\n",
    "    \n",
    "    if np.all(abs(temp_alpha-current_alpha_2)<tolerance):\n",
    "        break"
   ]
  },
  {
   "cell_type": "code",
   "execution_count": 89,
   "metadata": {},
   "outputs": [
    {
     "data": {
      "text/plain": [
       "array([ 1.22050638e-06,  1.22167517e-06,  1.22496228e-06,  1.21942606e-06,\n",
       "        1.21752253e-06,  1.22177208e-06, -1.21590634e-06,  4.99998777e-01,\n",
       "        5.00001219e-01,  1.21822186e-06,  1.22197648e-06, -1.21417308e-06,\n",
       "        1.21532209e-06, -1.21274842e-06,  1.21995042e-06,  1.22269919e-06,\n",
       "        1.22158363e-06, -1.21532935e-06, -1.21380228e-06,  4.99998782e-01,\n",
       "        1.21982494e-06, -1.21754310e-06, -1.21647897e-06, -1.21960173e-06,\n",
       "       -1.21611584e-06,  1.21804829e-06,  1.22154508e-06, -1.21977136e-06,\n",
       "        1.21635001e-06, -1.21767444e-06, -1.21502138e-06,  1.22154923e-06,\n",
       "        1.21950534e-06,  1.21995444e-06,  1.22023733e-06,  2.88075213e-01,\n",
       "       -1.21786450e-06, -1.21702697e-06,  1.22477836e-06,  5.00001221e-01,\n",
       "        1.21347365e-06, -1.21810524e-06, -1.21668749e-06,  1.22368820e-06,\n",
       "        1.22392752e-06,  1.21829093e-06,  1.22287204e-06, -1.21243651e-06,\n",
       "        2.88133712e-01, -1.21349580e-06])"
      ]
     },
     "execution_count": 89,
     "metadata": {},
     "output_type": "execute_result"
    }
   ],
   "source": [
    "current_alpha_2"
   ]
  },
  {
   "cell_type": "code",
   "execution_count": 94,
   "metadata": {},
   "outputs": [],
   "source": [
    "initial_alpha=np.random.rand(N,)\n",
    "lambda_3=0\n",
    "initial_z=np.random.rand(N,)\n",
    "initial_u=np.random.rand(N,)\n",
    "\n",
    "temp_alpha=np.zeros(N,)\n",
    "temp_z=np.zeros(N,)\n",
    "temp_u=np.zeros(N,)\n",
    "\n",
    "current_alpha_3=initial_alpha\n",
    "current_z_3=initial_z\n",
    "current_u_3=initial_u\n",
    "the_one=np.zeros(N,)+1\n",
    "\n",
    "rho_3=0.0002\n",
    "\n",
    "'iterating when gamma=0.5'\n",
    "while True:\n",
    "    temp_alpha=current_alpha_3\n",
    "    #getting the value of lambda_1\n",
    "    temp1=current_z_3-current_u_3+rho_2*the_one # (50,)\n",
    "    temp2=np.identity(N)+rho_3*K #(50,50)\n",
    "    temp3=np.linalg.inv(temp2) #(50,50)\n",
    "    temp4=np.matmul(rho_3*y.T,temp3) #(50,)\n",
    "    temp5=np.matmul(temp4,y) # a scalar\n",
    "    temp6=np.matmul(y.T,temp3) \n",
    "    lambda_3=(np.matmul(temp6,temp1)/temp5)\n",
    "    'getting the value of alpha'\n",
    "    temp7=current_z_3-current_u_3+rho_3*the_one-lambda_3*rho_3*y\n",
    "    current_alpha_3=np.matmul(temp3,temp7)\n",
    "    \n",
    "    'finding the value of z'\n",
    "    temp_z=current_z_3\n",
    "    current_z_3=getZ(current_u_3,gamma_3,current_alpha_3)\n",
    "    \n",
    "    'getting the value of u'\n",
    "    temp_u=current_u_3\n",
    "    current_u_3=temp_u+current_alpha_3-current_z_3\n",
    "    \n",
    "    if np.all(abs(temp_alpha-current_alpha_3)<tolerance):\n",
    "        break"
   ]
  },
  {
   "cell_type": "code",
   "execution_count": 95,
   "metadata": {},
   "outputs": [
    {
     "data": {
      "text/plain": [
       "array([ 7.66079423e-07,  7.67360067e-07,  7.71963939e-07,  7.65289857e-07,\n",
       "        7.62529313e-07,  7.66899606e-07, -7.62210144e-07,  9.37439790e-01,\n",
       "        3.77028110e-01,  7.62649377e-07,  7.66965721e-07, -7.60354692e-07,\n",
       "        7.59801547e-07, -7.59726466e-07,  7.65848833e-07,  7.68395677e-07,\n",
       "        7.67331600e-07, -7.61799533e-07, -7.59552379e-07, -7.64401718e-07,\n",
       "        7.64614356e-07, -7.64453657e-07, -7.63504288e-07, -7.67313405e-07,\n",
       "       -7.62653774e-07,  7.62889292e-07,  7.67345055e-07, -7.67280725e-07,\n",
       "        7.61168189e-07, -7.65168814e-07, -7.61425755e-07,  7.66691992e-07,\n",
       "        7.64527123e-07,  7.65841126e-07,  7.66217895e-07,  7.81874235e-02,\n",
       "       -7.66146741e-07, -7.63626955e-07,  7.70394051e-07,  1.00000077e+00,\n",
       "        7.57859337e-07, -7.65012753e-07, -7.63202862e-07,  7.70210505e-07,\n",
       "        7.70146494e-07,  7.62958742e-07,  7.67146437e-07, -7.58789690e-07,\n",
       "        5.19278059e-01, -7.59560957e-07])"
      ]
     },
     "execution_count": 95,
     "metadata": {},
     "output_type": "execute_result"
    }
   ],
   "source": [
    "current_alpha_3"
   ]
  },
  {
   "cell_type": "code",
   "execution_count": 106,
   "metadata": {},
   "outputs": [],
   "source": [
    "def getB(alpha,X=X,y=y):\n",
    "    b=np.zeros(len(X[0]),)\n",
    "    for i in range(0,len(b)):\n",
    "        temp=0\n",
    "        for j in range(0,len(X)):\n",
    "            temp+=X[j][i]*alpha[j]*y[j]\n",
    "        b[i]=temp\n",
    "    return b\n",
    "\n",
    "        \n",
    "    "
   ]
  },
  {
   "cell_type": "code",
   "execution_count": 115,
   "metadata": {},
   "outputs": [
    {
     "name": "stdout",
     "output_type": "stream",
     "text": [
      "The value of b when gamma=0.1 1_N\n",
      "\n",
      "[ 0.74428863 -0.87383441]\n",
      "======================================\n",
      "The value of b when gamma=0.5 1_N\n",
      "\n",
      "[ 1.10992488 -1.04730759]\n",
      "======================================\n",
      "The value of b when gamma=1_N\n",
      "\n",
      "[ 1.2530175  -1.12102881]\n"
     ]
    }
   ],
   "source": [
    "print('The value of b when gamma=0.1 1_N\\n')\n",
    "print(getB(current_alpha_1))\n",
    "print('======================================')\n",
    "\n",
    "print('The value of b when gamma=0.5 1_N\\n')\n",
    "print(getB(current_alpha_2))\n",
    "print('======================================')\n",
    "\n",
    "print('The value of b when gamma=1_N\\n')\n",
    "print(getB(current_alpha_3))"
   ]
  },
  {
   "cell_type": "code",
   "execution_count": null,
   "metadata": {},
   "outputs": [],
   "source": []
  }
 ],
 "metadata": {
  "kernelspec": {
   "display_name": "Python 3",
   "language": "python",
   "name": "python3"
  },
  "language_info": {
   "codemirror_mode": {
    "name": "ipython",
    "version": 3
   },
   "file_extension": ".py",
   "mimetype": "text/x-python",
   "name": "python",
   "nbconvert_exporter": "python",
   "pygments_lexer": "ipython3",
   "version": "3.7.4"
  }
 },
 "nbformat": 4,
 "nbformat_minor": 2
}
