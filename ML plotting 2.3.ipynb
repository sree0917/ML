{
 "cells": [
  {
   "cell_type": "code",
   "execution_count": 1,
   "metadata": {},
   "outputs": [],
   "source": [
    "import numpy as np\n",
    "import csv\n",
    "import os\n",
    "import math\n",
    "import matplotlib.pyplot as plt\n",
    "os.chdir('/Users/sreelakshmirajendrakumar/Downloads')\n",
    "\n",
    "X=[]\n",
    "with open('project1_em_Q2_X.csv') as csvfile:\n",
    "    readCSV = csv.reader(csvfile, delimiter=',')\n",
    "    for row in readCSV:\n",
    "        try:\n",
    "            X.append((float(row[1])))\n",
    "        except:\n",
    "            row==0"
   ]
  },
  {
   "cell_type": "code",
   "execution_count": 2,
   "metadata": {},
   "outputs": [],
   "source": [
    "N=np.shape(X)\n",
    "alpha=[]\n",
    "m=[]\n",
    "sigma=[]\n",
    "with open('project1_em_Q2_param.csv') as csvfile:\n",
    "    readCSV = csv.reader(csvfile, delimiter=',')\n",
    "    for param in readCSV:\n",
    "        try:\n",
    "            alpha.append(float(param[1]))\n",
    "            m.append(float(param[2]))\n",
    "            sigma.append((float(param[3]))**2)\n",
    "        except:\n",
    "            param==0\n",
    "            \n",
    "q=np.shape(alpha)\n",
    "\n",
    "t=np.linspace(-10,10,10000)\n",
    "\n",
    "temp=0\n",
    "pi_joint=[]\n",
    "for x in range (0,len(t)):\n",
    "    pi_joint.append([])\n",
    "    for z in range (0,len(alpha)):\n",
    "        temp=((alpha[z]*math.exp((-(t[x]-m[z])**2)/(2*sigma[z])))/(math.sqrt(2*np.pi*sigma[z])))\n",
    "        pi_joint[x].append(temp)"
   ]
  },
  {
   "cell_type": "code",
   "execution_count": 3,
   "metadata": {},
   "outputs": [],
   "source": [
    "sum_joint=[]\n",
    "temp1=0\n",
    "for x in range(0,len(t)):\n",
    "    for z in range(0,len(alpha)):\n",
    "        temp1+=pi_joint[x][z]\n",
    "    sum_joint.append(temp1)"
   ]
  },
  {
   "cell_type": "code",
   "execution_count": 4,
   "metadata": {},
   "outputs": [],
   "source": [
    "temp2=0\n",
    "pi_jointX=[]\n",
    "for x in range (0,len(X)):\n",
    "    pi_jointX.append([])\n",
    "    for z in range (0,len(alpha)):\n",
    "        temp2=((alpha[z]*math.exp((-(X[x]-m[z])**2)/(2*sigma[z])))/(math.sqrt(2*np.pi*sigma[z])))\n",
    "        pi_jointX[x].append(temp2)\n",
    "sum_jointX=[]\n",
    "temp3=0\n",
    "for x in range(0,len(X)):\n",
    "    for z in range(0,len(alpha)):\n",
    "        temp3+=pi_jointX[x][z]\n",
    "    sum_jointX.append(temp3)"
   ]
  },
  {
   "cell_type": "code",
   "execution_count": 8,
   "metadata": {},
   "outputs": [
    {
     "data": {
      "text/plain": [
       "<matplotlib.collections.PathCollection at 0x11c696d10>"
      ]
     },
     "execution_count": 8,
     "metadata": {},
     "output_type": "execute_result"
    },
    {
     "data": {
      "image/png": "[encoded data removed]",
      "text/plain": [
       "<Figure size 432x288 with 1 Axes>"
      ]
     },
     "metadata": {
      "needs_background": "light"
     },
     "output_type": "display_data"
    }
   ],
   "source": [
    "plt.plot(t,sum_joint,'r-')\n",
    "plt.scatter(X,sum_jointX)"
   ]
  }
 ],
 "metadata": {
  "kernelspec": {
   "display_name": "Python 3",
   "language": "python",
   "name": "python3"
  },
  "language_info": {
   "codemirror_mode": {
    "name": "ipython",
    "version": 3
   },
   "file_extension": ".py",
   "mimetype": "text/x-python",
   "name": "python",
   "nbconvert_exporter": "python",
   "pygments_lexer": "ipython3",
   "version": "3.7.4"
  }
 },
 "nbformat": 4,
 "nbformat_minor": 2
}
